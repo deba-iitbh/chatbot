{
 "cells": [
  {
   "cell_type": "markdown",
   "id": "ca6ba97e-e54b-41a9-8c25-3069a63f6d36",
   "metadata": {},
   "source": [
    "# Preprocessing"
   ]
  },
  {
   "cell_type": "code",
   "execution_count": 94,
   "id": "22235a64-e792-44fa-acd7-fa76618d6ef1",
   "metadata": {},
   "outputs": [],
   "source": [
    "import pandas as pd\n",
    "import numpy as np\n",
    "import string"
   ]
  },
  {
   "cell_type": "code",
   "execution_count": 95,
   "id": "48384570-602f-460b-ae84-b51330537b13",
   "metadata": {},
   "outputs": [],
   "source": [
    "data = pd.read_csv(\"red.csv\", encoding = 'utf-8', encoding_errors = \"backslashreplace\", index_col = 0)\n",
    "data.columns = [\"question\", \"answers\"]\n",
    "data.answers = data.answers.str.strip('\\[\\]\\\"').str.split(\"',\")"
   ]
  },
  {
   "cell_type": "code",
   "execution_count": 103,
   "id": "0493a8cc-eedd-47d4-8931-6739810ad720",
   "metadata": {},
   "outputs": [],
   "source": [
    "clean_data = pd.DataFrame([], columns = [\"q\", \"a\"])"
   ]
  },
  {
   "cell_type": "code",
   "execution_count": 104,
   "id": "4887f7e4-abee-4774-8750-0f307f42694b",
   "metadata": {},
   "outputs": [],
   "source": [
    "for idx, row in data.iterrows():\n",
    "    for i in range(len(row[1])):\n",
    "        b = row[1][i].translate(str.maketrans(' ', ' ', string.punctuation))\n",
    "        clean_data.loc[len(clean_data.index)] = [row[0], b]"
   ]
  },
  {
   "cell_type": "code",
   "execution_count": 105,
   "id": "a8daff59-2653-41a4-820c-e9fbec3bb5d1",
   "metadata": {},
   "outputs": [
    {
     "data": {
      "text/html": [
       "<div>\n",
       "<style scoped>\n",
       "    .dataframe tbody tr th:only-of-type {\n",
       "        vertical-align: middle;\n",
       "    }\n",
       "\n",
       "    .dataframe tbody tr th {\n",
       "        vertical-align: top;\n",
       "    }\n",
       "\n",
       "    .dataframe thead th {\n",
       "        text-align: right;\n",
       "    }\n",
       "</style>\n",
       "<table border=\"1\" class=\"dataframe\">\n",
       "  <thead>\n",
       "    <tr style=\"text-align: right;\">\n",
       "      <th></th>\n",
       "      <th>q</th>\n",
       "      <th>a</th>\n",
       "    </tr>\n",
       "  </thead>\n",
       "  <tbody>\n",
       "    <tr>\n",
       "      <th>0</th>\n",
       "      <td>Can water benders from Avatar force you into a...</td>\n",
       "      <td>blood bending so yea</td>\n",
       "    </tr>\n",
       "    <tr>\n",
       "      <th>1</th>\n",
       "      <td>Can water benders from Avatar force you into a...</td>\n",
       "      <td>Nobody makes me bleed my own blood</td>\n",
       "    </tr>\n",
       "    <tr>\n",
       "      <th>2</th>\n",
       "      <td>How do you shave a cleft chin?</td>\n",
       "      <td>Very carefully</td>\n",
       "    </tr>\n",
       "    <tr>\n",
       "      <th>3</th>\n",
       "      <td>If you go to an Amish village or Mennonite to ...</td>\n",
       "      <td>They pay in oddly shaped shillings made of bon...</td>\n",
       "    </tr>\n",
       "    <tr>\n",
       "      <th>4</th>\n",
       "      <td>If you go to an Amish village or Mennonite to ...</td>\n",
       "      <td>Im not sure about Mennonites but the Amish us...</td>\n",
       "    </tr>\n",
       "    <tr>\n",
       "      <th>...</th>\n",
       "      <td>...</td>\n",
       "      <td>...</td>\n",
       "    </tr>\n",
       "    <tr>\n",
       "      <th>193</th>\n",
       "      <td>Is all of femboy gay?</td>\n",
       "      <td>Rather no</td>\n",
       "    </tr>\n",
       "    <tr>\n",
       "      <th>194</th>\n",
       "      <td>Is all of femboy gay?</td>\n",
       "      <td>No some of them are gay but most just crossdress</td>\n",
       "    </tr>\n",
       "    <tr>\n",
       "      <th>195</th>\n",
       "      <td>Can two people who hate each other actually en...</td>\n",
       "      <td>Its a real thing Feelings including lust sexua...</td>\n",
       "    </tr>\n",
       "    <tr>\n",
       "      <th>196</th>\n",
       "      <td>Can two people who hate each other actually en...</td>\n",
       "      <td>‘Tis real</td>\n",
       "    </tr>\n",
       "    <tr>\n",
       "      <th>197</th>\n",
       "      <td>Can two people who hate each other actually en...</td>\n",
       "      <td>Definitely real</td>\n",
       "    </tr>\n",
       "  </tbody>\n",
       "</table>\n",
       "<p>198 rows × 2 columns</p>\n",
       "</div>"
      ],
      "text/plain": [
       "                                                     q  \\\n",
       "0    Can water benders from Avatar force you into a...   \n",
       "1    Can water benders from Avatar force you into a...   \n",
       "2                       How do you shave a cleft chin?   \n",
       "3    If you go to an Amish village or Mennonite to ...   \n",
       "4    If you go to an Amish village or Mennonite to ...   \n",
       "..                                                 ...   \n",
       "193                              Is all of femboy gay?   \n",
       "194                              Is all of femboy gay?   \n",
       "195  Can two people who hate each other actually en...   \n",
       "196  Can two people who hate each other actually en...   \n",
       "197  Can two people who hate each other actually en...   \n",
       "\n",
       "                                                     a  \n",
       "0                                 blood bending so yea  \n",
       "1                   Nobody makes me bleed my own blood  \n",
       "2                                       Very carefully  \n",
       "3    They pay in oddly shaped shillings made of bon...  \n",
       "4     Im not sure about Mennonites but the Amish us...  \n",
       "..                                                 ...  \n",
       "193                                          Rather no  \n",
       "194   No some of them are gay but most just crossdress  \n",
       "195  Its a real thing Feelings including lust sexua...  \n",
       "196                                          ‘Tis real  \n",
       "197                                    Definitely real  \n",
       "\n",
       "[198 rows x 2 columns]"
      ]
     },
     "execution_count": 105,
     "metadata": {},
     "output_type": "execute_result"
    }
   ],
   "source": [
    "clean_data"
   ]
  },
  {
   "cell_type": "code",
   "execution_count": 106,
   "id": "b7b96498-8586-4ce3-ae45-c71d06499eb3",
   "metadata": {},
   "outputs": [],
   "source": [
    "clean_data.to_csv(\"qa.csv\")"
   ]
  }
 ],
 "metadata": {
  "kernelspec": {
   "display_name": "Python 3 (ipykernel)",
   "language": "python",
   "name": "python3"
  },
  "language_info": {
   "codemirror_mode": {
    "name": "ipython",
    "version": 3
   },
   "file_extension": ".py",
   "mimetype": "text/x-python",
   "name": "python",
   "nbconvert_exporter": "python",
   "pygments_lexer": "ipython3",
   "version": "3.9.12"
  }
 },
 "nbformat": 4,
 "nbformat_minor": 5
}
