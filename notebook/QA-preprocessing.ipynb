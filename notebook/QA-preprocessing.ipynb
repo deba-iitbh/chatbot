{
 "cells": [
  {
   "cell_type": "markdown",
   "id": "ca6ba97e-e54b-41a9-8c25-3069a63f6d36",
   "metadata": {},
   "source": [
    "# Preprocessing"
   ]
  },
  {
   "cell_type": "code",
   "execution_count": 2,
   "id": "22235a64-e792-44fa-acd7-fa76618d6ef1",
   "metadata": {},
   "outputs": [],
   "source": [
    "import pandas as pd\n",
    "import numpy as np\n",
    "import string"
   ]
  },
  {
   "cell_type": "code",
   "execution_count": 95,
   "id": "48384570-602f-460b-ae84-b51330537b13",
   "metadata": {},
   "outputs": [],
   "source": [
    "data = pd.read_csv(\"red.csv\", encoding = 'utf-8', encoding_errors = \"backslashreplace\", index_col = 0)\n",
    "data.columns = [\"question\", \"answers\"]\n",
    "data.answers = data.answers.str.strip('\\[\\]\\\"').str.split(\"',\")"
   ]
  },
  {
   "cell_type": "code",
   "execution_count": 103,
   "id": "0493a8cc-eedd-47d4-8931-6739810ad720",
   "metadata": {},
   "outputs": [],
   "source": [
    "clean_data = pd.DataFrame([], columns = [\"q\", \"a\"])"
   ]
  },
  {
   "cell_type": "code",
   "execution_count": 104,
   "id": "4887f7e4-abee-4774-8750-0f307f42694b",
   "metadata": {},
   "outputs": [],
   "source": [
    "for idx, row in data.iterrows():\n",
    "    for i in range(len(row[1])):\n",
    "        b = row[1][i].translate(str.maketrans(' ', ' ', string.punctuation))\n",
    "        clean_data.loc[len(clean_data.index)] = [row[0], b]"
   ]
  },
  {
   "cell_type": "code",
   "execution_count": 105,
   "id": "a8daff59-2653-41a4-820c-e9fbec3bb5d1",
   "metadata": {},
   "outputs": [
    {
     "data": {
      "text/html": [
       "<div>\n",
       "<style scoped>\n",
       "    .dataframe tbody tr th:only-of-type {\n",
       "        vertical-align: middle;\n",
       "    }\n",
       "\n",
       "    .dataframe tbody tr th {\n",
       "        vertical-align: top;\n",
       "    }\n",
       "\n",
       "    .dataframe thead th {\n",
       "        text-align: right;\n",
       "    }\n",
       "</style>\n",
       "<table border=\"1\" class=\"dataframe\">\n",
       "  <thead>\n",
       "    <tr style=\"text-align: right;\">\n",
       "      <th></th>\n",
       "      <th>q</th>\n",
       "      <th>a</th>\n",
       "    </tr>\n",
       "  </thead>\n",
       "  <tbody>\n",
       "    <tr>\n",
       "      <th>0</th>\n",
       "      <td>Can water benders from Avatar force you into a...</td>\n",
       "      <td>blood bending so yea</td>\n",
       "    </tr>\n",
       "    <tr>\n",
       "      <th>1</th>\n",
       "      <td>Can water benders from Avatar force you into a...</td>\n",
       "      <td>Nobody makes me bleed my own blood</td>\n",
       "    </tr>\n",
       "    <tr>\n",
       "      <th>2</th>\n",
       "      <td>How do you shave a cleft chin?</td>\n",
       "      <td>Very carefully</td>\n",
       "    </tr>\n",
       "    <tr>\n",
       "      <th>3</th>\n",
       "      <td>If you go to an Amish village or Mennonite to ...</td>\n",
       "      <td>They pay in oddly shaped shillings made of bon...</td>\n",
       "    </tr>\n",
       "    <tr>\n",
       "      <th>4</th>\n",
       "      <td>If you go to an Amish village or Mennonite to ...</td>\n",
       "      <td>Im not sure about Mennonites but the Amish us...</td>\n",
       "    </tr>\n",
       "    <tr>\n",
       "      <th>...</th>\n",
       "      <td>...</td>\n",
       "      <td>...</td>\n",
       "    </tr>\n",
       "    <tr>\n",
       "      <th>193</th>\n",
       "      <td>Is all of femboy gay?</td>\n",
       "      <td>Rather no</td>\n",
       "    </tr>\n",
       "    <tr>\n",
       "      <th>194</th>\n",
       "      <td>Is all of femboy gay?</td>\n",
       "      <td>No some of them are gay but most just crossdress</td>\n",
       "    </tr>\n",
       "    <tr>\n",
       "      <th>195</th>\n",
       "      <td>Can two people who hate each other actually en...</td>\n",
       "      <td>Its a real thing Feelings including lust sexua...</td>\n",
       "    </tr>\n",
       "    <tr>\n",
       "      <th>196</th>\n",
       "      <td>Can two people who hate each other actually en...</td>\n",
       "      <td>‘Tis real</td>\n",
       "    </tr>\n",
       "    <tr>\n",
       "      <th>197</th>\n",
       "      <td>Can two people who hate each other actually en...</td>\n",
       "      <td>Definitely real</td>\n",
       "    </tr>\n",
       "  </tbody>\n",
       "</table>\n",
       "<p>198 rows × 2 columns</p>\n",
       "</div>"
      ],
      "text/plain": [
       "                                                     q  \\\n",
       "0    Can water benders from Avatar force you into a...   \n",
       "1    Can water benders from Avatar force you into a...   \n",
       "2                       How do you shave a cleft chin?   \n",
       "3    If you go to an Amish village or Mennonite to ...   \n",
       "4    If you go to an Amish village or Mennonite to ...   \n",
       "..                                                 ...   \n",
       "193                              Is all of femboy gay?   \n",
       "194                              Is all of femboy gay?   \n",
       "195  Can two people who hate each other actually en...   \n",
       "196  Can two people who hate each other actually en...   \n",
       "197  Can two people who hate each other actually en...   \n",
       "\n",
       "                                                     a  \n",
       "0                                 blood bending so yea  \n",
       "1                   Nobody makes me bleed my own blood  \n",
       "2                                       Very carefully  \n",
       "3    They pay in oddly shaped shillings made of bon...  \n",
       "4     Im not sure about Mennonites but the Amish us...  \n",
       "..                                                 ...  \n",
       "193                                          Rather no  \n",
       "194   No some of them are gay but most just crossdress  \n",
       "195  Its a real thing Feelings including lust sexua...  \n",
       "196                                          ‘Tis real  \n",
       "197                                    Definitely real  \n",
       "\n",
       "[198 rows x 2 columns]"
      ]
     },
     "execution_count": 105,
     "metadata": {},
     "output_type": "execute_result"
    }
   ],
   "source": [
    "clean_data"
   ]
  },
  {
   "cell_type": "code",
   "execution_count": 3,
   "id": "b7b96498-8586-4ce3-ae45-c71d06499eb3",
   "metadata": {},
   "outputs": [
    {
     "ename": "NameError",
     "evalue": "name 'clean_data' is not defined",
     "output_type": "error",
     "traceback": [
      "\u001b[0;31m---------------------------------------------------------------------------\u001b[0m",
      "\u001b[0;31mNameError\u001b[0m                                 Traceback (most recent call last)",
      "Input \u001b[0;32mIn [3]\u001b[0m, in \u001b[0;36m<cell line: 1>\u001b[0;34m()\u001b[0m\n\u001b[0;32m----> 1\u001b[0m \u001b[43mclean_data\u001b[49m\u001b[38;5;241m.\u001b[39mto_csv(\u001b[38;5;124m\"\u001b[39m\u001b[38;5;124m../input/qa_extra.csv\u001b[39m\u001b[38;5;124m\"\u001b[39m)\n",
      "\u001b[0;31mNameError\u001b[0m: name 'clean_data' is not defined"
     ]
    }
   ],
   "source": [
    "clean_data.to_csv(\"qa.csv\")"
   ]
  },
  {
   "cell_type": "code",
   "execution_count": 9,
   "id": "8a4d8504-d2c9-40a7-9c04-af93d18e7d3a",
   "metadata": {},
   "outputs": [
    {
     "data": {
      "text/html": [
       "<div>\n",
       "<style scoped>\n",
       "    .dataframe tbody tr th:only-of-type {\n",
       "        vertical-align: middle;\n",
       "    }\n",
       "\n",
       "    .dataframe tbody tr th {\n",
       "        vertical-align: top;\n",
       "    }\n",
       "\n",
       "    .dataframe thead th {\n",
       "        text-align: right;\n",
       "    }\n",
       "</style>\n",
       "<table border=\"1\" class=\"dataframe\">\n",
       "  <thead>\n",
       "    <tr style=\"text-align: right;\">\n",
       "      <th></th>\n",
       "      <th>Question</th>\n",
       "      <th>Answer</th>\n",
       "    </tr>\n",
       "  </thead>\n",
       "  <tbody>\n",
       "    <tr>\n",
       "      <th>0</th>\n",
       "      <td>How many courses are offered at IIT Bhilai?</td>\n",
       "      <td>IIT Bhilai offers nearly 20 courses at UG, PG ...</td>\n",
       "    </tr>\n",
       "    <tr>\n",
       "      <th>1</th>\n",
       "      <td>Why IIT Bhilai has no ranking in NIRF?</td>\n",
       "      <td>The Institute is a new establishment that star...</td>\n",
       "    </tr>\n",
       "    <tr>\n",
       "      <th>2</th>\n",
       "      <td>How big is the campus of IIT Bhilai?</td>\n",
       "      <td>IIT Bhilai is presently conducting all the act...</td>\n",
       "    </tr>\n",
       "    <tr>\n",
       "      <th>3</th>\n",
       "      <td>Is there a chance of branch change at IIT Bhilai?</td>\n",
       "      <td>It depends on the performance of the student i...</td>\n",
       "    </tr>\n",
       "    <tr>\n",
       "      <th>4</th>\n",
       "      <td>Is there any scholarship or fellowship granted...</td>\n",
       "      <td>Yes, the Institute offers various scholarship ...</td>\n",
       "    </tr>\n",
       "    <tr>\n",
       "      <th>...</th>\n",
       "      <td>...</td>\n",
       "      <td>...</td>\n",
       "    </tr>\n",
       "    <tr>\n",
       "      <th>101</th>\n",
       "      <td>How do I get LDAP ID and Email ID?</td>\n",
       "      <td>User must submit the filled application form d...</td>\n",
       "    </tr>\n",
       "    <tr>\n",
       "      <th>102</th>\n",
       "      <td>How do I change my LDAP password?</td>\n",
       "      <td>To change the password please go the WiFi Port...</td>\n",
       "    </tr>\n",
       "    <tr>\n",
       "      <th>103</th>\n",
       "      <td>How do I connect IIT Bhilai network and internet?</td>\n",
       "      <td>Please follow the instruction mentioned in the...</td>\n",
       "    </tr>\n",
       "    <tr>\n",
       "      <th>104</th>\n",
       "      <td>How to report an issue related to IT Services?</td>\n",
       "      <td>If you are facing any issue related to ITIS, y...</td>\n",
       "    </tr>\n",
       "    <tr>\n",
       "      <th>105</th>\n",
       "      <td>Who are the contact persons for IT services pr...</td>\n",
       "      <td>You may click here to get the contact details.</td>\n",
       "    </tr>\n",
       "  </tbody>\n",
       "</table>\n",
       "<p>106 rows × 2 columns</p>\n",
       "</div>"
      ],
      "text/plain": [
       "                                              Question  \\\n",
       "0          How many courses are offered at IIT Bhilai?   \n",
       "1               Why IIT Bhilai has no ranking in NIRF?   \n",
       "2                 How big is the campus of IIT Bhilai?   \n",
       "3    Is there a chance of branch change at IIT Bhilai?   \n",
       "4    Is there any scholarship or fellowship granted...   \n",
       "..                                                 ...   \n",
       "101                 How do I get LDAP ID and Email ID?   \n",
       "102                  How do I change my LDAP password?   \n",
       "103  How do I connect IIT Bhilai network and internet?   \n",
       "104     How to report an issue related to IT Services?   \n",
       "105  Who are the contact persons for IT services pr...   \n",
       "\n",
       "                                                Answer  \n",
       "0    IIT Bhilai offers nearly 20 courses at UG, PG ...  \n",
       "1    The Institute is a new establishment that star...  \n",
       "2    IIT Bhilai is presently conducting all the act...  \n",
       "3    It depends on the performance of the student i...  \n",
       "4    Yes, the Institute offers various scholarship ...  \n",
       "..                                                 ...  \n",
       "101  User must submit the filled application form d...  \n",
       "102  To change the password please go the WiFi Port...  \n",
       "103  Please follow the instruction mentioned in the...  \n",
       "104  If you are facing any issue related to ITIS, y...  \n",
       "105     You may click here to get the contact details.  \n",
       "\n",
       "[106 rows x 2 columns]"
      ]
     },
     "execution_count": 9,
     "metadata": {},
     "output_type": "execute_result"
    }
   ],
   "source": [
    "data = pd.read_csv(\"../input/q_a.csv\")\n",
    "data"
   ]
  },
  {
   "cell_type": "code",
   "execution_count": 8,
   "id": "3b5f853a-f56f-459f-ba89-4b461e8a1e7e",
   "metadata": {},
   "outputs": [],
   "source": [
    "data.to_csv(\"../q_a_extra.csv\", index = False)"
   ]
  },
  {
   "cell_type": "code",
   "execution_count": null,
   "id": "edef663a-dec4-4daf-8330-2c4e0fb3c2ba",
   "metadata": {},
   "outputs": [],
   "source": []
  }
 ],
 "metadata": {
  "kernelspec": {
   "display_name": "Python 3 (ipykernel)",
   "language": "python",
   "name": "python3"
  },
  "language_info": {
   "codemirror_mode": {
    "name": "ipython",
    "version": 3
   },
   "file_extension": ".py",
   "mimetype": "text/x-python",
   "name": "python",
   "nbconvert_exporter": "python",
   "pygments_lexer": "ipython3",
   "version": "3.9.12"
  }
 },
 "nbformat": 4,
 "nbformat_minor": 5
}
